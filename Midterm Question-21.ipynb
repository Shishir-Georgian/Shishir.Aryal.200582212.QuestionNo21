{
 "cells": [
  {
   "cell_type": "markdown",
   "id": "b8ad1e1e",
   "metadata": {},
   "source": [
    "# Question No-21"
   ]
  },
  {
   "cell_type": "markdown",
   "id": "acc97952",
   "metadata": {},
   "source": [
    "__int()__: Constructor that takes as input a pair of Point objects that represent the ends points of the line segment\n",
    "\n",
    "Length():: returns the length if the segment \n",
    "\n",
    "Slope() returns the slope of the segment of none if the slope is unbounded \n",
    "\n",
    " \n",
    "\n",
    " p1 = Point(3,4)\n",
    "\n",
    " p2 = Point()\n",
    "\n",
    " s = Segment(p1,p2)\n",
    "\n",
    " s.length()\n",
    "\n",
    "5.0\n",
    "\n",
    "s.slope()\n",
    "\n",
    "0.75"
   ]
  },
  {
   "cell_type": "code",
   "execution_count": 2,
   "id": "4f35c317",
   "metadata": {},
   "outputs": [
    {
     "name": "stdout",
     "output_type": "stream",
     "text": [
      "Length of the segment: 5.0\n",
      "Slope of the segment: 1.3333333333333333\n"
     ]
    }
   ],
   "source": [
    "import math\n",
    "class Point:\n",
    "   def __init__(self, x=0, y=0):\n",
    "       self.x = x\n",
    "       self.y = y\n",
    "class Segment:\n",
    "   def __init__(self, p1, p2):\n",
    "       self.p1 = p1\n",
    "       self.p2 = p2\n",
    "   def length(self):\n",
    "       return math.sqrt((self.p2.x - self.p1.x)**2 + (self.p2.y - self.p1.y)**2)\n",
    "   def slope(self):\n",
    "       if self.p2.x - self.p1.x == 0:\n",
    "           return None\n",
    "       return (self.p2.y - self.p1.y) / (self.p2.x - self.p1.x)\n",
    "\n",
    "p1 = Point(3, 4)\n",
    "p2 = Point()\n",
    "s = Segment(p1, p2)\n",
    "print(f\"Length of the segment: {s.length()}\")\n",
    "print(f\"Slope of the segment: {s.slope()}\")"
   ]
  },
  {
   "cell_type": "code",
   "execution_count": null,
   "id": "3f0d185b",
   "metadata": {},
   "outputs": [],
   "source": []
  }
 ],
 "metadata": {
  "kernelspec": {
   "display_name": "Python 3 (ipykernel)",
   "language": "python",
   "name": "python3"
  },
  "language_info": {
   "codemirror_mode": {
    "name": "ipython",
    "version": 3
   },
   "file_extension": ".py",
   "mimetype": "text/x-python",
   "name": "python",
   "nbconvert_exporter": "python",
   "pygments_lexer": "ipython3",
   "version": "3.11.5"
  }
 },
 "nbformat": 4,
 "nbformat_minor": 5
}
